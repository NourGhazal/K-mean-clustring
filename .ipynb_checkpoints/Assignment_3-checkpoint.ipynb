{
 "cells": [
  {
   "cell_type": "markdown",
   "metadata": {},
   "source": [
    "<h1><center>CSEN1022:Assignment 3</center></h1>\n",
    "<h3><center>Winter 2021</center></h3>\n",
    "<hr style=\"border:2px solid black\"> </hr>"
   ]
  },
  {
   "cell_type": "markdown",
   "metadata": {},
   "source": [
    "## <u> Please don't forget to fill in this data </u>\n",
    "**Member 1**\n",
    "\n",
    "Name:Noureldin Ayman Ghazal\n",
    "\n",
    "GUC-ID:43-15747\n",
    "\n",
    "Elective Tutorial No.:T07\n",
    "\n",
    "**Member 2**\n",
    "\n",
    "Name:Mohamed Ahmed Mohamed Alekhsasy\n",
    "\n",
    "GUC-ID:43-16620\n",
    "\n",
    "Elective Tutorial No.:T03\n",
    "\n",
    "<hr style=\"border:2px solid black\"> </hr>"
   ]
  },
  {
   "cell_type": "markdown",
   "metadata": {},
   "source": [
    "## Imports (Don't Edit)"
   ]
  },
  {
   "cell_type": "code",
   "execution_count": 1,
   "metadata": {},
   "outputs": [],
   "source": [
    "# ONLY USE THESE IMPORTS.\n",
    "# PLEASE DON'T EDIT THIS CELL.\n",
    "import numpy as np\n",
    "import matplotlib.pyplot as plt\n",
    "%matplotlib inline"
   ]
  },
  {
   "cell_type": "markdown",
   "metadata": {},
   "source": [
    "## Read Data"
   ]
  },
  {
   "cell_type": "code",
   "execution_count": null,
   "metadata": {},
   "outputs": [],
   "source": [
    "train_plane = np.array([plt.imread('Data/train/airplane/'+str(i)+'.jpg').reshape(-1) for i in range (5000)],dtype = float)\n",
    "test_plane = np.array([plt.imread('Data/test/airplane/'+str(i)+'.jpg').reshape(-1) for i in range (1000)],dtype = float)\n",
    "train_car = np.array([plt.imread('Data/train/automobile/'+str(i)+'.jpg').reshape(-1) for i in range (5000)],dtype = float)\n",
    "test_car = np.array([plt.imread('Data/test/automobile/'+str(i)+'.jpg').reshape(-1) for i in range (1000)],dtype = float)\n",
    "train_frog = np.array([plt.imread('Data/train/frog/'+str(i)+'.jpg').reshape(-1) for i in range (5000)],dtype = float)\n",
    "test_frog = np.array([plt.imread('Data/test/frog/'+str(i)+'.jpg').reshape(-1) for i in range (1000)],dtype = float)\n",
    "\n",
    "# X_train, X_test\n",
    "# THE image categories are different."
   ]
  },
  {
   "cell_type": "markdown",
   "metadata": {},
   "source": [
    "<hr style=\"border:2px solid black\"> </hr>\n",
    "\n",
    "# Perform K means clustering for all 3 classes (Training Data).\n",
    "### Return (memberships, centroids, dbi) --> (vector, matrix, scalar value)."
   ]
  },
  {
   "cell_type": "code",
   "execution_count": null,
   "metadata": {},
   "outputs": [],
   "source": [
    "###\n",
    "#CODE HERE#\n",
    "###\n",
    "\n",
    "# return (memberships, centroids, dbi)"
   ]
  },
  {
   "cell_type": "markdown",
   "metadata": {},
   "source": [
    "<hr style=\"border:2px solid black\"> </hr>\n",
    "\n",
    "# Repeat the previous process 10 times. \n",
    "### Pick the membership vector and the centroids matrix corresponding to the best dbi.\n",
    "##### Make sure you return max_counts and confusion_matrix.\n",
    "(keep history in whatever datastructure you like)."
   ]
  },
  {
   "cell_type": "code",
   "execution_count": null,
   "metadata": {},
   "outputs": [],
   "source": [
    "#best_membership_matrix = \n",
    "#best_centroids = \n",
    "#best_dbi = \n",
    "\n",
    "###\n",
    "#CODE HERE#\n",
    "###\n",
    "\n",
    "#max_counts = \n",
    "#confusion_matrix="
   ]
  },
  {
   "cell_type": "markdown",
   "metadata": {},
   "source": [
    "<hr style=\"border:2px solid black\"> </hr>\n",
    "\n",
    "## Don't Edit the Following Cells, Just Run & Save them."
   ]
  },
  {
   "cell_type": "code",
   "execution_count": null,
   "metadata": {},
   "outputs": [],
   "source": [
    "plt.figure(figsize=(10,6))\n",
    "plt.plot(['Airplane','Bird','Truck'],max_counts,'-o')\n",
    "plt.title('Best Counts')"
   ]
  },
  {
   "cell_type": "code",
   "execution_count": null,
   "metadata": {},
   "outputs": [],
   "source": [
    "plt.rc('figure', figsize=[5,5])\n",
    "plt.matshow(confusion_matrix,cmap=\"Blues\")\n",
    "for i in range(0,confusion_matrix.shape[0]):\n",
    "    for j in range(0,confusion_matrix.shape[1]):\n",
    "        plt.annotate(confusion_matrix[i,j],(j,i))"
   ]
  }
 ],
 "metadata": {
  "interpreter": {
   "hash": "31f2aee4e71d21fbe5cf8b01ff0e069b9275f58929596ceb00d14d90e3e16cd6"
  },
  "kernelspec": {
   "display_name": "Python 3 (ipykernel)",
   "language": "python",
   "name": "python3"
  },
  "language_info": {
   "codemirror_mode": {
    "name": "ipython",
    "version": 3
   },
   "file_extension": ".py",
   "mimetype": "text/x-python",
   "name": "python",
   "nbconvert_exporter": "python",
   "pygments_lexer": "ipython3",
   "version": "3.7.1"
  }
 },
 "nbformat": 4,
 "nbformat_minor": 4
}
